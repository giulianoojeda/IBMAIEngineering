{
 "cells": [
  {
   "cell_type": "markdown",
   "metadata": {},
   "source": [
    "<h1 align=center><font size = 5>Build a Regression Model in Keras</font></h1> "
   ]
  },
  {
   "cell_type": "markdown",
   "metadata": {},
   "source": [
    "In this course project, you will build a regression model using the deep learning Keras library, and then you will experiment with increasing the number of training epochs and changing number of hidden layers and you will see how changing these parameters impacts the performance of the model."
   ]
  },
  {
   "cell_type": "markdown",
   "metadata": {},
   "source": [
    "##  Getting our Dataset Ready"
   ]
  },
  {
   "cell_type": "markdown",
   "metadata": {},
   "source": [
    "We will be playing around with the same dataset that we used in the videos.\n",
    "\n",
    "<strong>The dataset is about the compressive strength of different samples of concrete based on the volumes of the different ingredients that were used to make them. Ingredients include:</strong>\n",
    "\n",
    "<strong>1. Cement</strong>\n",
    "\n",
    "<strong>2. Blast Furnace Slag</strong>\n",
    "\n",
    "<strong>3. Fly Ash</strong>\n",
    "\n",
    "<strong>4. Water</strong>\n",
    "\n",
    "<strong>5. Superplasticizer</strong>\n",
    "\n",
    "<strong>6. Coarse Aggregate</strong>\n",
    "\n",
    "<strong>7. Fine Aggregate</strong>\n",
    "\n",
    "Let's start by importing the <em>pandas</em> and the Numpy libraries."
   ]
  },
  {
   "cell_type": "code",
   "execution_count": 1,
   "metadata": {},
   "outputs": [],
   "source": [
    "import pandas as pd\n",
    "import numpy as np"
   ]
  },
  {
   "cell_type": "markdown",
   "metadata": {},
   "source": [
    "Let's download the data and read it into a <em>pandas</em> dataframe."
   ]
  },
  {
   "cell_type": "code",
   "execution_count": 2,
   "metadata": {},
   "outputs": [
    {
     "data": {
      "text/html": [
       "<div>\n",
       "<style scoped>\n",
       "    .dataframe tbody tr th:only-of-type {\n",
       "        vertical-align: middle;\n",
       "    }\n",
       "\n",
       "    .dataframe tbody tr th {\n",
       "        vertical-align: top;\n",
       "    }\n",
       "\n",
       "    .dataframe thead th {\n",
       "        text-align: right;\n",
       "    }\n",
       "</style>\n",
       "<table border=\"1\" class=\"dataframe\">\n",
       "  <thead>\n",
       "    <tr style=\"text-align: right;\">\n",
       "      <th></th>\n",
       "      <th>Cement</th>\n",
       "      <th>Blast Furnace Slag</th>\n",
       "      <th>Fly Ash</th>\n",
       "      <th>Water</th>\n",
       "      <th>Superplasticizer</th>\n",
       "      <th>Coarse Aggregate</th>\n",
       "      <th>Fine Aggregate</th>\n",
       "      <th>Age</th>\n",
       "      <th>Strength</th>\n",
       "    </tr>\n",
       "  </thead>\n",
       "  <tbody>\n",
       "    <tr>\n",
       "      <th>0</th>\n",
       "      <td>540.0</td>\n",
       "      <td>0.0</td>\n",
       "      <td>0.0</td>\n",
       "      <td>162.0</td>\n",
       "      <td>2.5</td>\n",
       "      <td>1040.0</td>\n",
       "      <td>676.0</td>\n",
       "      <td>28</td>\n",
       "      <td>79.99</td>\n",
       "    </tr>\n",
       "    <tr>\n",
       "      <th>1</th>\n",
       "      <td>540.0</td>\n",
       "      <td>0.0</td>\n",
       "      <td>0.0</td>\n",
       "      <td>162.0</td>\n",
       "      <td>2.5</td>\n",
       "      <td>1055.0</td>\n",
       "      <td>676.0</td>\n",
       "      <td>28</td>\n",
       "      <td>61.89</td>\n",
       "    </tr>\n",
       "    <tr>\n",
       "      <th>2</th>\n",
       "      <td>332.5</td>\n",
       "      <td>142.5</td>\n",
       "      <td>0.0</td>\n",
       "      <td>228.0</td>\n",
       "      <td>0.0</td>\n",
       "      <td>932.0</td>\n",
       "      <td>594.0</td>\n",
       "      <td>270</td>\n",
       "      <td>40.27</td>\n",
       "    </tr>\n",
       "    <tr>\n",
       "      <th>3</th>\n",
       "      <td>332.5</td>\n",
       "      <td>142.5</td>\n",
       "      <td>0.0</td>\n",
       "      <td>228.0</td>\n",
       "      <td>0.0</td>\n",
       "      <td>932.0</td>\n",
       "      <td>594.0</td>\n",
       "      <td>365</td>\n",
       "      <td>41.05</td>\n",
       "    </tr>\n",
       "    <tr>\n",
       "      <th>4</th>\n",
       "      <td>198.6</td>\n",
       "      <td>132.4</td>\n",
       "      <td>0.0</td>\n",
       "      <td>192.0</td>\n",
       "      <td>0.0</td>\n",
       "      <td>978.4</td>\n",
       "      <td>825.5</td>\n",
       "      <td>360</td>\n",
       "      <td>44.30</td>\n",
       "    </tr>\n",
       "  </tbody>\n",
       "</table>\n",
       "</div>"
      ],
      "text/plain": [
       "   Cement  Blast Furnace Slag  Fly Ash  Water  Superplasticizer  \\\n",
       "0   540.0                 0.0      0.0  162.0               2.5   \n",
       "1   540.0                 0.0      0.0  162.0               2.5   \n",
       "2   332.5               142.5      0.0  228.0               0.0   \n",
       "3   332.5               142.5      0.0  228.0               0.0   \n",
       "4   198.6               132.4      0.0  192.0               0.0   \n",
       "\n",
       "   Coarse Aggregate  Fine Aggregate  Age  Strength  \n",
       "0            1040.0           676.0   28     79.99  \n",
       "1            1055.0           676.0   28     61.89  \n",
       "2             932.0           594.0  270     40.27  \n",
       "3             932.0           594.0  365     41.05  \n",
       "4             978.4           825.5  360     44.30  "
      ]
     },
     "execution_count": 2,
     "metadata": {},
     "output_type": "execute_result"
    }
   ],
   "source": [
    "concrete_data = pd.read_csv('https://cocl.us/concrete_data')\n",
    "concrete_data.head()"
   ]
  },
  {
   "cell_type": "markdown",
   "metadata": {},
   "source": [
    "So the first concrete sample has 540 cubic meter of cement, 0 cubic meter of blast furnace slag, 0 cubic meter of fly ash, 162 cubic meter of water, 2.5 cubic meter of superplaticizer, 1040 cubic meter of coarse aggregate, 676 cubic meter of fine aggregate. Such a concrete mix which is 28 days old, has a compressive strength of 79.99 MPa. "
   ]
  },
  {
   "cell_type": "markdown",
   "metadata": {},
   "source": [
    "#### Let's check how many data points we have."
   ]
  },
  {
   "cell_type": "code",
   "execution_count": 3,
   "metadata": {},
   "outputs": [
    {
     "data": {
      "text/plain": [
       "(1030, 9)"
      ]
     },
     "execution_count": 3,
     "metadata": {},
     "output_type": "execute_result"
    }
   ],
   "source": [
    "concrete_data.shape"
   ]
  },
  {
   "cell_type": "markdown",
   "metadata": {},
   "source": [
    "So, there are approximately 1000 samples to train our model on. Because of the few samples, we have to be careful not to overfit the training data."
   ]
  },
  {
   "cell_type": "markdown",
   "metadata": {},
   "source": [
    "Let's check the dataset for any missing values."
   ]
  },
  {
   "cell_type": "code",
   "execution_count": 4,
   "metadata": {},
   "outputs": [
    {
     "data": {
      "text/html": [
       "<div>\n",
       "<style scoped>\n",
       "    .dataframe tbody tr th:only-of-type {\n",
       "        vertical-align: middle;\n",
       "    }\n",
       "\n",
       "    .dataframe tbody tr th {\n",
       "        vertical-align: top;\n",
       "    }\n",
       "\n",
       "    .dataframe thead th {\n",
       "        text-align: right;\n",
       "    }\n",
       "</style>\n",
       "<table border=\"1\" class=\"dataframe\">\n",
       "  <thead>\n",
       "    <tr style=\"text-align: right;\">\n",
       "      <th></th>\n",
       "      <th>Cement</th>\n",
       "      <th>Blast Furnace Slag</th>\n",
       "      <th>Fly Ash</th>\n",
       "      <th>Water</th>\n",
       "      <th>Superplasticizer</th>\n",
       "      <th>Coarse Aggregate</th>\n",
       "      <th>Fine Aggregate</th>\n",
       "      <th>Age</th>\n",
       "      <th>Strength</th>\n",
       "    </tr>\n",
       "  </thead>\n",
       "  <tbody>\n",
       "    <tr>\n",
       "      <th>count</th>\n",
       "      <td>1030.000000</td>\n",
       "      <td>1030.000000</td>\n",
       "      <td>1030.000000</td>\n",
       "      <td>1030.000000</td>\n",
       "      <td>1030.000000</td>\n",
       "      <td>1030.000000</td>\n",
       "      <td>1030.000000</td>\n",
       "      <td>1030.000000</td>\n",
       "      <td>1030.000000</td>\n",
       "    </tr>\n",
       "    <tr>\n",
       "      <th>mean</th>\n",
       "      <td>281.167864</td>\n",
       "      <td>73.895825</td>\n",
       "      <td>54.188350</td>\n",
       "      <td>181.567282</td>\n",
       "      <td>6.204660</td>\n",
       "      <td>972.918932</td>\n",
       "      <td>773.580485</td>\n",
       "      <td>45.662136</td>\n",
       "      <td>35.817961</td>\n",
       "    </tr>\n",
       "    <tr>\n",
       "      <th>std</th>\n",
       "      <td>104.506364</td>\n",
       "      <td>86.279342</td>\n",
       "      <td>63.997004</td>\n",
       "      <td>21.354219</td>\n",
       "      <td>5.973841</td>\n",
       "      <td>77.753954</td>\n",
       "      <td>80.175980</td>\n",
       "      <td>63.169912</td>\n",
       "      <td>16.705742</td>\n",
       "    </tr>\n",
       "    <tr>\n",
       "      <th>min</th>\n",
       "      <td>102.000000</td>\n",
       "      <td>0.000000</td>\n",
       "      <td>0.000000</td>\n",
       "      <td>121.800000</td>\n",
       "      <td>0.000000</td>\n",
       "      <td>801.000000</td>\n",
       "      <td>594.000000</td>\n",
       "      <td>1.000000</td>\n",
       "      <td>2.330000</td>\n",
       "    </tr>\n",
       "    <tr>\n",
       "      <th>25%</th>\n",
       "      <td>192.375000</td>\n",
       "      <td>0.000000</td>\n",
       "      <td>0.000000</td>\n",
       "      <td>164.900000</td>\n",
       "      <td>0.000000</td>\n",
       "      <td>932.000000</td>\n",
       "      <td>730.950000</td>\n",
       "      <td>7.000000</td>\n",
       "      <td>23.710000</td>\n",
       "    </tr>\n",
       "    <tr>\n",
       "      <th>50%</th>\n",
       "      <td>272.900000</td>\n",
       "      <td>22.000000</td>\n",
       "      <td>0.000000</td>\n",
       "      <td>185.000000</td>\n",
       "      <td>6.400000</td>\n",
       "      <td>968.000000</td>\n",
       "      <td>779.500000</td>\n",
       "      <td>28.000000</td>\n",
       "      <td>34.445000</td>\n",
       "    </tr>\n",
       "    <tr>\n",
       "      <th>75%</th>\n",
       "      <td>350.000000</td>\n",
       "      <td>142.950000</td>\n",
       "      <td>118.300000</td>\n",
       "      <td>192.000000</td>\n",
       "      <td>10.200000</td>\n",
       "      <td>1029.400000</td>\n",
       "      <td>824.000000</td>\n",
       "      <td>56.000000</td>\n",
       "      <td>46.135000</td>\n",
       "    </tr>\n",
       "    <tr>\n",
       "      <th>max</th>\n",
       "      <td>540.000000</td>\n",
       "      <td>359.400000</td>\n",
       "      <td>200.100000</td>\n",
       "      <td>247.000000</td>\n",
       "      <td>32.200000</td>\n",
       "      <td>1145.000000</td>\n",
       "      <td>992.600000</td>\n",
       "      <td>365.000000</td>\n",
       "      <td>82.600000</td>\n",
       "    </tr>\n",
       "  </tbody>\n",
       "</table>\n",
       "</div>"
      ],
      "text/plain": [
       "            Cement  Blast Furnace Slag      Fly Ash        Water  \\\n",
       "count  1030.000000         1030.000000  1030.000000  1030.000000   \n",
       "mean    281.167864           73.895825    54.188350   181.567282   \n",
       "std     104.506364           86.279342    63.997004    21.354219   \n",
       "min     102.000000            0.000000     0.000000   121.800000   \n",
       "25%     192.375000            0.000000     0.000000   164.900000   \n",
       "50%     272.900000           22.000000     0.000000   185.000000   \n",
       "75%     350.000000          142.950000   118.300000   192.000000   \n",
       "max     540.000000          359.400000   200.100000   247.000000   \n",
       "\n",
       "       Superplasticizer  Coarse Aggregate  Fine Aggregate          Age  \\\n",
       "count       1030.000000       1030.000000     1030.000000  1030.000000   \n",
       "mean           6.204660        972.918932      773.580485    45.662136   \n",
       "std            5.973841         77.753954       80.175980    63.169912   \n",
       "min            0.000000        801.000000      594.000000     1.000000   \n",
       "25%            0.000000        932.000000      730.950000     7.000000   \n",
       "50%            6.400000        968.000000      779.500000    28.000000   \n",
       "75%           10.200000       1029.400000      824.000000    56.000000   \n",
       "max           32.200000       1145.000000      992.600000   365.000000   \n",
       "\n",
       "          Strength  \n",
       "count  1030.000000  \n",
       "mean     35.817961  \n",
       "std      16.705742  \n",
       "min       2.330000  \n",
       "25%      23.710000  \n",
       "50%      34.445000  \n",
       "75%      46.135000  \n",
       "max      82.600000  "
      ]
     },
     "execution_count": 4,
     "metadata": {},
     "output_type": "execute_result"
    }
   ],
   "source": [
    "concrete_data.describe()"
   ]
  },
  {
   "cell_type": "code",
   "execution_count": 5,
   "metadata": {},
   "outputs": [
    {
     "data": {
      "text/plain": [
       "Cement                0\n",
       "Blast Furnace Slag    0\n",
       "Fly Ash               0\n",
       "Water                 0\n",
       "Superplasticizer      0\n",
       "Coarse Aggregate      0\n",
       "Fine Aggregate        0\n",
       "Age                   0\n",
       "Strength              0\n",
       "dtype: int64"
      ]
     },
     "execution_count": 5,
     "metadata": {},
     "output_type": "execute_result"
    }
   ],
   "source": [
    "concrete_data.isnull().sum()"
   ]
  },
  {
   "cell_type": "markdown",
   "metadata": {},
   "source": [
    "The data looks very clean and is ready to be used to build our model."
   ]
  },
  {
   "cell_type": "markdown",
   "metadata": {},
   "source": [
    "#### Split data into predictors and target"
   ]
  },
  {
   "cell_type": "markdown",
   "metadata": {},
   "source": [
    "The target variable in this problem is the concrete sample strength. Therefore, our predictors will be all the other columns."
   ]
  },
  {
   "cell_type": "code",
   "execution_count": 6,
   "metadata": {},
   "outputs": [],
   "source": [
    "concrete_data_columns = concrete_data.columns\n",
    "\n",
    "predictors = concrete_data[concrete_data_columns[concrete_data_columns != 'Strength']] # all columns except Strength\n",
    "target = concrete_data['Strength'] # Strength column"
   ]
  },
  {
   "cell_type": "markdown",
   "metadata": {},
   "source": [
    "Let's do a quick sanity check of the predictors and the target dataframes."
   ]
  },
  {
   "cell_type": "code",
   "execution_count": 7,
   "metadata": {},
   "outputs": [
    {
     "data": {
      "text/html": [
       "<div>\n",
       "<style scoped>\n",
       "    .dataframe tbody tr th:only-of-type {\n",
       "        vertical-align: middle;\n",
       "    }\n",
       "\n",
       "    .dataframe tbody tr th {\n",
       "        vertical-align: top;\n",
       "    }\n",
       "\n",
       "    .dataframe thead th {\n",
       "        text-align: right;\n",
       "    }\n",
       "</style>\n",
       "<table border=\"1\" class=\"dataframe\">\n",
       "  <thead>\n",
       "    <tr style=\"text-align: right;\">\n",
       "      <th></th>\n",
       "      <th>Cement</th>\n",
       "      <th>Blast Furnace Slag</th>\n",
       "      <th>Fly Ash</th>\n",
       "      <th>Water</th>\n",
       "      <th>Superplasticizer</th>\n",
       "      <th>Coarse Aggregate</th>\n",
       "      <th>Fine Aggregate</th>\n",
       "      <th>Age</th>\n",
       "    </tr>\n",
       "  </thead>\n",
       "  <tbody>\n",
       "    <tr>\n",
       "      <th>0</th>\n",
       "      <td>540.0</td>\n",
       "      <td>0.0</td>\n",
       "      <td>0.0</td>\n",
       "      <td>162.0</td>\n",
       "      <td>2.5</td>\n",
       "      <td>1040.0</td>\n",
       "      <td>676.0</td>\n",
       "      <td>28</td>\n",
       "    </tr>\n",
       "    <tr>\n",
       "      <th>1</th>\n",
       "      <td>540.0</td>\n",
       "      <td>0.0</td>\n",
       "      <td>0.0</td>\n",
       "      <td>162.0</td>\n",
       "      <td>2.5</td>\n",
       "      <td>1055.0</td>\n",
       "      <td>676.0</td>\n",
       "      <td>28</td>\n",
       "    </tr>\n",
       "    <tr>\n",
       "      <th>2</th>\n",
       "      <td>332.5</td>\n",
       "      <td>142.5</td>\n",
       "      <td>0.0</td>\n",
       "      <td>228.0</td>\n",
       "      <td>0.0</td>\n",
       "      <td>932.0</td>\n",
       "      <td>594.0</td>\n",
       "      <td>270</td>\n",
       "    </tr>\n",
       "    <tr>\n",
       "      <th>3</th>\n",
       "      <td>332.5</td>\n",
       "      <td>142.5</td>\n",
       "      <td>0.0</td>\n",
       "      <td>228.0</td>\n",
       "      <td>0.0</td>\n",
       "      <td>932.0</td>\n",
       "      <td>594.0</td>\n",
       "      <td>365</td>\n",
       "    </tr>\n",
       "    <tr>\n",
       "      <th>4</th>\n",
       "      <td>198.6</td>\n",
       "      <td>132.4</td>\n",
       "      <td>0.0</td>\n",
       "      <td>192.0</td>\n",
       "      <td>0.0</td>\n",
       "      <td>978.4</td>\n",
       "      <td>825.5</td>\n",
       "      <td>360</td>\n",
       "    </tr>\n",
       "  </tbody>\n",
       "</table>\n",
       "</div>"
      ],
      "text/plain": [
       "   Cement  Blast Furnace Slag  Fly Ash  Water  Superplasticizer  \\\n",
       "0   540.0                 0.0      0.0  162.0               2.5   \n",
       "1   540.0                 0.0      0.0  162.0               2.5   \n",
       "2   332.5               142.5      0.0  228.0               0.0   \n",
       "3   332.5               142.5      0.0  228.0               0.0   \n",
       "4   198.6               132.4      0.0  192.0               0.0   \n",
       "\n",
       "   Coarse Aggregate  Fine Aggregate  Age  \n",
       "0            1040.0           676.0   28  \n",
       "1            1055.0           676.0   28  \n",
       "2             932.0           594.0  270  \n",
       "3             932.0           594.0  365  \n",
       "4             978.4           825.5  360  "
      ]
     },
     "execution_count": 7,
     "metadata": {},
     "output_type": "execute_result"
    }
   ],
   "source": [
    "predictors.head()"
   ]
  },
  {
   "cell_type": "code",
   "execution_count": 8,
   "metadata": {},
   "outputs": [
    {
     "data": {
      "text/plain": [
       "0    79.99\n",
       "1    61.89\n",
       "2    40.27\n",
       "3    41.05\n",
       "4    44.30\n",
       "Name: Strength, dtype: float64"
      ]
     },
     "execution_count": 8,
     "metadata": {},
     "output_type": "execute_result"
    }
   ],
   "source": [
    "target.head()"
   ]
  },
  {
   "cell_type": "markdown",
   "metadata": {},
   "source": [
    "Finally, the last step is to normalize the data by substracting the mean and dividing by the standard deviation."
   ]
  },
  {
   "cell_type": "code",
   "execution_count": 9,
   "metadata": {},
   "outputs": [
    {
     "data": {
      "text/html": [
       "<div>\n",
       "<style scoped>\n",
       "    .dataframe tbody tr th:only-of-type {\n",
       "        vertical-align: middle;\n",
       "    }\n",
       "\n",
       "    .dataframe tbody tr th {\n",
       "        vertical-align: top;\n",
       "    }\n",
       "\n",
       "    .dataframe thead th {\n",
       "        text-align: right;\n",
       "    }\n",
       "</style>\n",
       "<table border=\"1\" class=\"dataframe\">\n",
       "  <thead>\n",
       "    <tr style=\"text-align: right;\">\n",
       "      <th></th>\n",
       "      <th>Cement</th>\n",
       "      <th>Blast Furnace Slag</th>\n",
       "      <th>Fly Ash</th>\n",
       "      <th>Water</th>\n",
       "      <th>Superplasticizer</th>\n",
       "      <th>Coarse Aggregate</th>\n",
       "      <th>Fine Aggregate</th>\n",
       "      <th>Age</th>\n",
       "    </tr>\n",
       "  </thead>\n",
       "  <tbody>\n",
       "    <tr>\n",
       "      <th>0</th>\n",
       "      <td>2.476712</td>\n",
       "      <td>-0.856472</td>\n",
       "      <td>-0.846733</td>\n",
       "      <td>-0.916319</td>\n",
       "      <td>-0.620147</td>\n",
       "      <td>0.862735</td>\n",
       "      <td>-1.217079</td>\n",
       "      <td>-0.279597</td>\n",
       "    </tr>\n",
       "    <tr>\n",
       "      <th>1</th>\n",
       "      <td>2.476712</td>\n",
       "      <td>-0.856472</td>\n",
       "      <td>-0.846733</td>\n",
       "      <td>-0.916319</td>\n",
       "      <td>-0.620147</td>\n",
       "      <td>1.055651</td>\n",
       "      <td>-1.217079</td>\n",
       "      <td>-0.279597</td>\n",
       "    </tr>\n",
       "    <tr>\n",
       "      <th>2</th>\n",
       "      <td>0.491187</td>\n",
       "      <td>0.795140</td>\n",
       "      <td>-0.846733</td>\n",
       "      <td>2.174405</td>\n",
       "      <td>-1.038638</td>\n",
       "      <td>-0.526262</td>\n",
       "      <td>-2.239829</td>\n",
       "      <td>3.551340</td>\n",
       "    </tr>\n",
       "    <tr>\n",
       "      <th>3</th>\n",
       "      <td>0.491187</td>\n",
       "      <td>0.795140</td>\n",
       "      <td>-0.846733</td>\n",
       "      <td>2.174405</td>\n",
       "      <td>-1.038638</td>\n",
       "      <td>-0.526262</td>\n",
       "      <td>-2.239829</td>\n",
       "      <td>5.055221</td>\n",
       "    </tr>\n",
       "    <tr>\n",
       "      <th>4</th>\n",
       "      <td>-0.790075</td>\n",
       "      <td>0.678079</td>\n",
       "      <td>-0.846733</td>\n",
       "      <td>0.488555</td>\n",
       "      <td>-1.038638</td>\n",
       "      <td>0.070492</td>\n",
       "      <td>0.647569</td>\n",
       "      <td>4.976069</td>\n",
       "    </tr>\n",
       "  </tbody>\n",
       "</table>\n",
       "</div>"
      ],
      "text/plain": [
       "     Cement  Blast Furnace Slag   Fly Ash     Water  Superplasticizer  \\\n",
       "0  2.476712           -0.856472 -0.846733 -0.916319         -0.620147   \n",
       "1  2.476712           -0.856472 -0.846733 -0.916319         -0.620147   \n",
       "2  0.491187            0.795140 -0.846733  2.174405         -1.038638   \n",
       "3  0.491187            0.795140 -0.846733  2.174405         -1.038638   \n",
       "4 -0.790075            0.678079 -0.846733  0.488555         -1.038638   \n",
       "\n",
       "   Coarse Aggregate  Fine Aggregate       Age  \n",
       "0          0.862735       -1.217079 -0.279597  \n",
       "1          1.055651       -1.217079 -0.279597  \n",
       "2         -0.526262       -2.239829  3.551340  \n",
       "3         -0.526262       -2.239829  5.055221  \n",
       "4          0.070492        0.647569  4.976069  "
      ]
     },
     "execution_count": 9,
     "metadata": {},
     "output_type": "execute_result"
    }
   ],
   "source": [
    "predictors_norm = (predictors - predictors.mean()) / predictors.std()\n",
    "predictors_norm.head()"
   ]
  },
  {
   "cell_type": "markdown",
   "metadata": {},
   "source": [
    "Let's save the number of predictors to *n_cols* since we will need this number when building our network."
   ]
  },
  {
   "cell_type": "code",
   "execution_count": 10,
   "metadata": {},
   "outputs": [],
   "source": [
    "n_cols = predictors_norm.shape[1] # number of predictors"
   ]
  },
  {
   "cell_type": "markdown",
   "metadata": {},
   "source": [
    "## Import Keras"
   ]
  },
  {
   "cell_type": "markdown",
   "metadata": {},
   "source": [
    "Let's go ahead and import the Keras library"
   ]
  },
  {
   "cell_type": "code",
   "execution_count": 11,
   "metadata": {},
   "outputs": [
    {
     "name": "stderr",
     "output_type": "stream",
     "text": [
      "Using TensorFlow backend.\n",
      "/home/jupyterlab/conda/envs/python/lib/python3.6/site-packages/tensorflow/python/framework/dtypes.py:519: FutureWarning: Passing (type, 1) or '1type' as a synonym of type is deprecated; in a future version of numpy, it will be understood as (type, (1,)) / '(1,)type'.\n",
      "  _np_qint8 = np.dtype([(\"qint8\", np.int8, 1)])\n",
      "/home/jupyterlab/conda/envs/python/lib/python3.6/site-packages/tensorflow/python/framework/dtypes.py:520: FutureWarning: Passing (type, 1) or '1type' as a synonym of type is deprecated; in a future version of numpy, it will be understood as (type, (1,)) / '(1,)type'.\n",
      "  _np_quint8 = np.dtype([(\"quint8\", np.uint8, 1)])\n",
      "/home/jupyterlab/conda/envs/python/lib/python3.6/site-packages/tensorflow/python/framework/dtypes.py:521: FutureWarning: Passing (type, 1) or '1type' as a synonym of type is deprecated; in a future version of numpy, it will be understood as (type, (1,)) / '(1,)type'.\n",
      "  _np_qint16 = np.dtype([(\"qint16\", np.int16, 1)])\n",
      "/home/jupyterlab/conda/envs/python/lib/python3.6/site-packages/tensorflow/python/framework/dtypes.py:522: FutureWarning: Passing (type, 1) or '1type' as a synonym of type is deprecated; in a future version of numpy, it will be understood as (type, (1,)) / '(1,)type'.\n",
      "  _np_quint16 = np.dtype([(\"quint16\", np.uint16, 1)])\n",
      "/home/jupyterlab/conda/envs/python/lib/python3.6/site-packages/tensorflow/python/framework/dtypes.py:523: FutureWarning: Passing (type, 1) or '1type' as a synonym of type is deprecated; in a future version of numpy, it will be understood as (type, (1,)) / '(1,)type'.\n",
      "  _np_qint32 = np.dtype([(\"qint32\", np.int32, 1)])\n",
      "/home/jupyterlab/conda/envs/python/lib/python3.6/site-packages/tensorflow/python/framework/dtypes.py:528: FutureWarning: Passing (type, 1) or '1type' as a synonym of type is deprecated; in a future version of numpy, it will be understood as (type, (1,)) / '(1,)type'.\n",
      "  np_resource = np.dtype([(\"resource\", np.ubyte, 1)])\n"
     ]
    }
   ],
   "source": [
    "import keras"
   ]
  },
  {
   "cell_type": "markdown",
   "metadata": {},
   "source": [
    "Let's import the rest of the packages from the Keras library that we will need to build our regression model."
   ]
  },
  {
   "cell_type": "code",
   "execution_count": 12,
   "metadata": {},
   "outputs": [],
   "source": [
    "from keras.models import Sequential\n",
    "from keras.layers import Dense"
   ]
  },
  {
   "cell_type": "markdown",
   "metadata": {},
   "source": [
    "## Build a Neural Network"
   ]
  },
  {
   "cell_type": "markdown",
   "metadata": {},
   "source": [
    "Let's define a function that defines our regression model for us so that we can conveniently call it to create our model."
   ]
  },
  {
   "cell_type": "code",
   "execution_count": 13,
   "metadata": {},
   "outputs": [],
   "source": [
    "# define regression model\n",
    "def regression_model():\n",
    "    # create model\n",
    "    model = Sequential()\n",
    "    model.add(Dense(10, activation='relu', input_shape=(n_cols,)))\n",
    "    model.add(Dense(1))\n",
    "    \n",
    "    # compile model\n",
    "    model.compile(optimizer='adam', loss='mean_squared_error')\n",
    "    return model"
   ]
  },
  {
   "cell_type": "markdown",
   "metadata": {},
   "source": [
    "The above function create a model that has one hidden layers consisting of 10 hidden units. The network uses <strong>reLU</strong> as the activation function and <strong>mean squared error</strong> as the loss function"
   ]
  },
  {
   "cell_type": "markdown",
   "metadata": {},
   "source": [
    "## Train and Test the Network"
   ]
  },
  {
   "cell_type": "markdown",
   "metadata": {},
   "source": [
    "Let's call the function now to create our model."
   ]
  },
  {
   "cell_type": "code",
   "execution_count": 14,
   "metadata": {},
   "outputs": [],
   "source": [
    "model = regression_model()"
   ]
  },
  {
   "cell_type": "markdown",
   "metadata": {},
   "source": [
    "We will import the <strong>train_test_split</strong> function from <strong>scikit-learn</strong> to randomly split the data into a training and test sets. Also, we will import the <strong>mean_squared_error</strong> function from Scikit-learn."
   ]
  },
  {
   "cell_type": "code",
   "execution_count": 15,
   "metadata": {},
   "outputs": [],
   "source": [
    "from sklearn.model_selection import train_test_split\n",
    "from sklearn.metrics import mean_squared_error"
   ]
  },
  {
   "cell_type": "markdown",
   "metadata": {},
   "source": [
    "Next, We will create a function called <strong>evaluate_model</strong> which will perform the following tasks.\n",
    "\n",
    "1. Randomly split the data into a training and test sets by holding 30% of the data for testing\n",
    "\n",
    "2. Train and test the model at the same time using the <strong>fit</strong> method. We will train the model for 50 epochs.\n",
    "\n",
    "3. After training is complete, We will need to evaluate the model on the test data.\n",
    "\n",
    "4. Compute the mean squared error between the predicted concrete strength and the actual concrete strength.\n",
    "\n",
    "5. Return the mean_squared_error"
   ]
  },
  {
   "cell_type": "code",
   "execution_count": 16,
   "metadata": {},
   "outputs": [],
   "source": [
    "def evaluate_model(predictors, target, test_size = 0.3, random_state = 1, epochs = 50, verbose = 1):\n",
    "    # Split data \n",
    "    X_train, X_test, y_train, y_test = train_test_split(predictors_norm, target, test_size=test_size, random_state=random_state)\n",
    "    # Fit the model\n",
    "    model.fit(X_train, y_train, epochs=epochs, verbose=verbose)\n",
    "    # Evaluate model\n",
    "    loss_val = model.evaluate(X_test, y_test,verbose=verbose)\n",
    "    y_pred = model.predict(X_test)\n",
    "    #Compute the mean squared error\n",
    "    mean_square_error = mean_squared_error(y_test, y_pred)\n",
    "    return (loss_val, mean_square_error)"
   ]
  },
  {
   "cell_type": "code",
   "execution_count": 17,
   "metadata": {},
   "outputs": [
    {
     "name": "stdout",
     "output_type": "stream",
     "text": [
      "Epoch 1/100\n",
      "721/721 [==============================] - 3s 4ms/step - loss: 1534.9242\n",
      "Epoch 2/100\n",
      "721/721 [==============================] - 2s 2ms/step - loss: 1518.7255\n",
      "Epoch 3/100\n",
      "721/721 [==============================] - 1s 1ms/step - loss: 1502.8610\n",
      "Epoch 4/100\n",
      "721/721 [==============================] - 1s 1ms/step - loss: 1487.1528\n",
      "Epoch 5/100\n",
      "721/721 [==============================] - 1s 2ms/step - loss: 1471.4846\n",
      "Epoch 6/100\n",
      "721/721 [==============================] - 1s 2ms/step - loss: 1455.7013: 0s - loss: 146\n",
      "Epoch 7/100\n",
      "721/721 [==============================] - 1s 2ms/step - loss: 1440.0077\n",
      "Epoch 8/100\n",
      "721/721 [==============================] - 1s 1ms/step - loss: 1423.6131\n",
      "Epoch 9/100\n",
      "721/721 [==============================] - 1s 2ms/step - loss: 1407.0023\n",
      "Epoch 10/100\n",
      "721/721 [==============================] - 1s 2ms/step - loss: 1390.0370\n",
      "Epoch 11/100\n",
      "721/721 [==============================] - 1s 2ms/step - loss: 1372.4515\n",
      "Epoch 12/100\n",
      "721/721 [==============================] - 1s 2ms/step - loss: 1354.0057\n",
      "Epoch 13/100\n",
      "721/721 [==============================] - 1s 2ms/step - loss: 1335.2282\n",
      "Epoch 14/100\n",
      "721/721 [==============================] - 4s 5ms/step - loss: 1315.6672\n",
      "Epoch 15/100\n",
      "721/721 [==============================] - 1s 2ms/step - loss: 1295.1181\n",
      "Epoch 16/100\n",
      "721/721 [==============================] - 1s 2ms/step - loss: 1273.8215\n",
      "Epoch 17/100\n",
      "721/721 [==============================] - 1s 2ms/step - loss: 1251.5778\n",
      "Epoch 18/100\n",
      "721/721 [==============================] - 1s 2ms/step - loss: 1228.4914\n",
      "Epoch 19/100\n",
      "721/721 [==============================] - 1s 2ms/step - loss: 1204.2813\n",
      "Epoch 20/100\n",
      "721/721 [==============================] - 1s 2ms/step - loss: 1179.8066\n",
      "Epoch 21/100\n",
      "721/721 [==============================] - 1s 1ms/step - loss: 1153.9505\n",
      "Epoch 22/100\n",
      "721/721 [==============================] - 1s 1ms/step - loss: 1127.4069\n",
      "Epoch 23/100\n",
      "721/721 [==============================] - 1s 2ms/step - loss: 1099.4450\n",
      "Epoch 24/100\n",
      "721/721 [==============================] - 1s 2ms/step - loss: 1070.9751\n",
      "Epoch 25/100\n",
      "721/721 [==============================] - 1s 1ms/step - loss: 1041.2742: 0s - loss: 1\n",
      "Epoch 26/100\n",
      "721/721 [==============================] - 1s 2ms/step - loss: 1010.8717\n",
      "Epoch 27/100\n",
      "721/721 [==============================] - 1s 1ms/step - loss: 978.9595\n",
      "Epoch 28/100\n",
      "721/721 [==============================] - 1s 2ms/step - loss: 946.5689A: 1s - loss: 1189.90 - ETA: 1s - lo\n",
      "Epoch 29/100\n",
      "721/721 [==============================] - 1s 2ms/step - loss: 913.2428A: 0s - loss: 9\n",
      "Epoch 30/100\n",
      "721/721 [==============================] - 1s 2ms/step - loss: 878.5999\n",
      "Epoch 31/100\n",
      "721/721 [==============================] - 1s 2ms/step - loss: 844.4217\n",
      "Epoch 32/100\n",
      "721/721 [==============================] - 1s 1ms/step - loss: 809.4281\n",
      "Epoch 33/100\n",
      "721/721 [==============================] - 1s 1ms/step - loss: 774.8997\n",
      "Epoch 34/100\n",
      "721/721 [==============================] - 1s 2ms/step - loss: 740.7000\n",
      "Epoch 35/100\n",
      "721/721 [==============================] - 1s 1ms/step - loss: 707.1204\n",
      "Epoch 36/100\n",
      "721/721 [==============================] - 1s 2ms/step - loss: 673.8822\n",
      "Epoch 37/100\n",
      "721/721 [==============================] - 1s 2ms/step - loss: 642.2703\n",
      "Epoch 38/100\n",
      "721/721 [==============================] - 2s 3ms/step - loss: 610.4658\n",
      "Epoch 39/100\n",
      "721/721 [==============================] - 1s 2ms/step - loss: 580.2585\n",
      "Epoch 40/100\n",
      "721/721 [==============================] - 1s 2ms/step - loss: 551.6280\n",
      "Epoch 41/100\n",
      "721/721 [==============================] - 1s 1ms/step - loss: 522.8708\n",
      "Epoch 42/100\n",
      "721/721 [==============================] - 1s 1ms/step - loss: 496.4828\n",
      "Epoch 43/100\n",
      "721/721 [==============================] - 1s 1ms/step - loss: 470.9389A: 0s - loss: 44\n",
      "Epoch 44/100\n",
      "721/721 [==============================] - 1s 1ms/step - loss: 447.2126\n",
      "Epoch 45/100\n",
      "721/721 [==============================] - 1s 2ms/step - loss: 424.5349\n",
      "Epoch 46/100\n",
      "721/721 [==============================] - 1s 2ms/step - loss: 403.2867\n",
      "Epoch 47/100\n",
      "721/721 [==============================] - 1s 2ms/step - loss: 383.6858\n",
      "Epoch 48/100\n",
      "721/721 [==============================] - 1s 1ms/step - loss: 365.1240\n",
      "Epoch 49/100\n",
      "721/721 [==============================] - 1s 1ms/step - loss: 347.8615\n",
      "Epoch 50/100\n",
      "721/721 [==============================] - 1s 1ms/step - loss: 332.1085\n",
      "Epoch 51/100\n",
      "721/721 [==============================] - 1s 1ms/step - loss: 317.5652\n",
      "Epoch 52/100\n",
      "721/721 [==============================] - 1s 2ms/step - loss: 304.0639\n",
      "Epoch 53/100\n",
      "721/721 [==============================] - 1s 2ms/step - loss: 291.4739\n",
      "Epoch 54/100\n",
      "721/721 [==============================] - 1s 2ms/step - loss: 280.2001\n",
      "Epoch 55/100\n",
      "721/721 [==============================] - 1s 2ms/step - loss: 269.8812\n",
      "Epoch 56/100\n",
      "721/721 [==============================] - 1s 1ms/step - loss: 260.3373\n",
      "Epoch 57/100\n",
      "721/721 [==============================] - 1s 1ms/step - loss: 251.7884\n",
      "Epoch 58/100\n",
      "721/721 [==============================] - 1s 1ms/step - loss: 244.0062\n",
      "Epoch 59/100\n",
      "721/721 [==============================] - 1s 1ms/step - loss: 237.1099\n",
      "Epoch 60/100\n",
      "721/721 [==============================] - 1s 2ms/step - loss: 230.4753\n",
      "Epoch 61/100\n",
      "721/721 [==============================] - 1s 2ms/step - loss: 224.7558\n",
      "Epoch 62/100\n",
      "721/721 [==============================] - 1s 2ms/step - loss: 219.3481\n",
      "Epoch 63/100\n",
      "721/721 [==============================] - 1s 2ms/step - loss: 214.5775\n",
      "Epoch 64/100\n",
      "721/721 [==============================] - 1s 2ms/step - loss: 210.0428\n",
      "Epoch 65/100\n",
      "721/721 [==============================] - 1s 1ms/step - loss: 206.0033\n",
      "Epoch 66/100\n",
      "721/721 [==============================] - 1s 2ms/step - loss: 202.2888A: 0s - loss: 211.241 - ETA: 0s - loss:\n",
      "Epoch 67/100\n",
      "721/721 [==============================] - 1s 1ms/step - loss: 198.7828\n",
      "Epoch 68/100\n",
      "721/721 [==============================] - 1s 2ms/step - loss: 195.6423\n",
      "Epoch 69/100\n",
      "721/721 [==============================] - 1s 2ms/step - loss: 192.6601\n",
      "Epoch 70/100\n",
      "721/721 [==============================] - 1s 2ms/step - loss: 189.9140\n",
      "Epoch 71/100\n",
      "721/721 [==============================] - 1s 1ms/step - loss: 187.2685\n",
      "Epoch 72/100\n",
      "721/721 [==============================] - 2s 2ms/step - loss: 184.7945\n",
      "Epoch 73/100\n",
      "721/721 [==============================] - 1s 2ms/step - loss: 182.4717A: 1s - \n",
      "Epoch 74/100\n",
      "721/721 [==============================] - 1s 2ms/step - loss: 180.3344\n",
      "Epoch 75/100\n",
      "721/721 [==============================] - 1s 2ms/step - loss: 178.3381A: 0s - loss: \n",
      "Epoch 76/100\n",
      "721/721 [==============================] - 1s 2ms/step - loss: 176.3172A: 0s - loss: 178.67\n",
      "Epoch 77/100\n",
      "721/721 [==============================] - 1s 1ms/step - loss: 174.4154\n",
      "Epoch 78/100\n",
      "721/721 [==============================] - 1s 2ms/step - loss: 172.6036\n",
      "Epoch 79/100\n",
      "721/721 [==============================] - 1s 2ms/step - loss: 170.8705\n",
      "Epoch 80/100\n",
      "721/721 [==============================] - 1s 2ms/step - loss: 169.1688\n",
      "Epoch 81/100\n",
      "721/721 [==============================] - ETA: 0s - loss: 172.536 - 1s 1ms/step - loss: 167.6128\n",
      "Epoch 82/100\n",
      "721/721 [==============================] - 1s 2ms/step - loss: 166.0463\n",
      "Epoch 83/100\n",
      "721/721 [==============================] - 1s 2ms/step - loss: 164.6634\n",
      "Epoch 84/100\n",
      "721/721 [==============================] - 1s 2ms/step - loss: 163.1498\n",
      "Epoch 85/100\n",
      "721/721 [==============================] - 1s 2ms/step - loss: 161.7809A: 0s - loss:\n",
      "Epoch 86/100\n",
      " 96/721 [==>...........................] - ETA: 2s - loss: 143.4272"
     ]
    },
    {
     "name": "stderr",
     "output_type": "stream",
     "text": [
      "/home/jupyterlab/conda/envs/python/lib/python3.6/site-packages/keras/callbacks.py:120: UserWarning: Method on_batch_end() is slow compared to the batch update (0.139778). Check your callbacks.\n",
      "  % delta_t_median)\n"
     ]
    },
    {
     "name": "stdout",
     "output_type": "stream",
     "text": [
      "721/721 [==============================] - 1s 1ms/step - loss: 160.4905\n",
      "Epoch 87/100\n",
      "721/721 [==============================] - 1s 2ms/step - loss: 159.3293\n",
      "Epoch 88/100\n",
      "721/721 [==============================] - 1s 1ms/step - loss: 158.0401\n",
      "Epoch 89/100\n",
      "721/721 [==============================] - 1s 2ms/step - loss: 156.8974\n",
      "Epoch 90/100\n",
      "721/721 [==============================] - 1s 2ms/step - loss: 155.7295\n",
      "Epoch 91/100\n",
      "721/721 [==============================] - 1s 2ms/step - loss: 154.6973\n",
      "Epoch 92/100\n",
      "721/721 [==============================] - 1s 2ms/step - loss: 153.5300\n",
      "Epoch 93/100\n",
      "721/721 [==============================] - 1s 2ms/step - loss: 152.4562\n",
      "Epoch 94/100\n",
      "721/721 [==============================] - 1s 2ms/step - loss: 151.4115\n",
      "Epoch 95/100\n",
      "721/721 [==============================] - 1s 1ms/step - loss: 150.3774\n",
      "Epoch 96/100\n",
      "721/721 [==============================] - 1s 1ms/step - loss: 149.4378A: 0s - loss: 152.6\n",
      "Epoch 97/100\n",
      "721/721 [==============================] - 1s 1ms/step - loss: 148.3249\n",
      "Epoch 98/100\n",
      "721/721 [==============================] - 1s 2ms/step - loss: 147.4056\n",
      "Epoch 99/100\n",
      "721/721 [==============================] - 1s 2ms/step - loss: 146.4399\n",
      "Epoch 100/100\n",
      "721/721 [==============================] - 1s 2ms/step - loss: 145.5146\n",
      "309/309 [==============================] - 0s 1ms/step\n",
      "(163.27597342185604, 163.27597210940198)\n"
     ]
    }
   ],
   "source": [
    "print(evaluate_model(predictors, target,0.3,47,100,1))"
   ]
  },
  {
   "cell_type": "markdown",
   "metadata": {},
   "source": [
    "Finally, Create a list of 50 mean squared errors and report mean and the standard deviation of the mean squared errors."
   ]
  },
  {
   "cell_type": "code",
   "execution_count": 18,
   "metadata": {},
   "outputs": [
    {
     "name": "stdout",
     "output_type": "stream",
     "text": [
      "MSE 1: 90.60787687332498\n",
      "MSE 2: 74.10165654648469\n",
      "MSE 3: 43.463698958116055\n",
      "MSE 4: 39.99970625596525\n",
      "MSE 5: 40.89263277763688\n",
      "MSE 6: 41.30647079072724\n",
      "MSE 7: 43.091546734559884\n",
      "MSE 8: 31.994773938817886\n",
      "MSE 9: 36.44973819078365\n",
      "MSE 10: 31.521122447881112\n",
      "MSE 11: 36.11074972924291\n",
      "MSE 12: 32.072723252873594\n",
      "MSE 13: 39.198150906362194\n",
      "MSE 14: 41.42523883461566\n",
      "MSE 15: 33.37205908445093\n",
      "MSE 16: 29.52399411247772\n",
      "MSE 17: 33.053259834116716\n",
      "MSE 18: 34.040116590975174\n",
      "MSE 19: 31.47845204671224\n",
      "MSE 20: 35.67805598237368\n",
      "MSE 21: 32.129110996777186\n",
      "MSE 22: 31.882980957771967\n",
      "MSE 23: 28.595760863961527\n",
      "MSE 24: 33.45597713433423\n",
      "MSE 25: 33.833442194176335\n",
      "MSE 26: 36.81785543991138\n",
      "MSE 27: 30.952346172147585\n",
      "MSE 28: 31.42083818009756\n",
      "MSE 29: 36.67698345986771\n",
      "MSE 30: 37.1819106722341\n",
      "MSE 31: 32.19212049959547\n",
      "MSE 32: 30.490356402103956\n",
      "MSE 33: 31.588490452195447\n",
      "MSE 34: 32.914674937917965\n",
      "MSE 35: 35.02432897870209\n",
      "MSE 36: 39.17050797422341\n",
      "MSE 37: 27.3425360960482\n",
      "MSE 38: 36.054574318302485\n",
      "MSE 39: 31.379049023378244\n",
      "MSE 40: 29.36670020637389\n",
      "MSE 41: 34.16488959796992\n",
      "MSE 42: 26.995237943038198\n",
      "MSE 43: 34.797304067025294\n",
      "MSE 44: 34.70639965217862\n",
      "MSE 45: 36.009909336620936\n",
      "MSE 46: 32.68711808584269\n",
      "MSE 47: 31.290415618797724\n",
      "MSE 48: 32.98508757063486\n",
      "MSE 49: 33.70406971162963\n",
      "MSE 50: 36.60629266288288\n",
      "\n",
      "\n",
      "Number of epochs for each training: 100\n",
      "Mean of 50 MSE: 36.235985669301996\n",
      "Standard Deviation of 50 MSE: 10.281908809788856\n"
     ]
    }
   ],
   "source": [
    "total_mean_squared_errors = 50\n",
    "epochs = 100\n",
    "mean_squared_errors = []\n",
    "\n",
    "for i in range(0, total_mean_squared_errors):\n",
    "    MSE,mean_square_error = evaluate_model(predictors, target,0.3,i,epochs,0)\n",
    "    print(\"MSE \"+str(i+1)+\": \"+str(MSE))\n",
    "    mean_squared_errors.append(mean_square_error)\n",
    "\n",
    "mean_squared_errors = np.array(mean_squared_errors)\n",
    "mean = np.mean(mean_squared_errors)\n",
    "standard_deviation = np.std(mean_squared_errors)\n",
    "\n",
    "print('\\n')\n",
    "print(\"Number of epochs for each training: \"+str(epochs) )\n",
    "print(\"Mean of \"+str(total_mean_squared_errors)+\" MSE: \" + str(mean))\n",
    "print(\"Standard Deviation of \"+str(total_mean_squared_errors)+\" MSE: \" + str(standard_deviation))"
   ]
  },
  {
   "cell_type": "code",
   "execution_count": null,
   "metadata": {},
   "outputs": [],
   "source": []
  }
 ],
 "metadata": {
  "kernelspec": {
   "display_name": "Python",
   "language": "python",
   "name": "conda-env-python-py"
  },
  "language_info": {
   "codemirror_mode": {
    "name": "ipython",
    "version": 3
   },
   "file_extension": ".py",
   "mimetype": "text/x-python",
   "name": "python",
   "nbconvert_exporter": "python",
   "pygments_lexer": "ipython3",
   "version": "3.6.10"
  }
 },
 "nbformat": 4,
 "nbformat_minor": 4
}
